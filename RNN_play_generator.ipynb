{
  "nbformat": 4,
  "nbformat_minor": 0,
  "metadata": {
    "colab": {
      "name": "RNN_play_generator.ipynb",
      "provenance": [],
      "collapsed_sections": []
    },
    "kernelspec": {
      "name": "python3",
      "display_name": "Python 3"
    },
    "accelerator": "GPU"
  },
  "cells": [
    {
      "cell_type": "code",
      "metadata": {
        "id": "rYopjmPFPyxS",
        "colab_type": "code",
        "colab": {}
      },
      "source": [
        "%tensorflow_version 2.x  # this line is not required unless you are in a notebook\n",
        "from keras.preprocessing import sequence\n",
        "import keras\n",
        "import tensorflow as tf\n",
        "import os\n",
        "import numpy as np"
      ],
      "execution_count": null,
      "outputs": []
    },
    {
      "cell_type": "code",
      "metadata": {
        "id": "IqQFrz96cRN9",
        "colab_type": "code",
        "colab": {}
      },
      "source": [
        "path_to_file = tf.keras.utils.get_file('shakespeare.txt', 'https://storage.googleapis.com/download.tensorflow.org/data/shakespeare.txt')"
      ],
      "execution_count": null,
      "outputs": []
    },
    {
      "cell_type": "code",
      "metadata": {
        "id": "nvT1SyDNmmhM",
        "colab_type": "code",
        "colab": {}
      },
      "source": [
        "#Loading from your computer\n",
        "\n",
        "from google.colab import files\n",
        "path_to_file = list(files.upload().keys())[0]"
      ],
      "execution_count": null,
      "outputs": []
    },
    {
      "cell_type": "code",
      "metadata": {
        "id": "8uXcggz9cVMV",
        "colab_type": "code",
        "colab": {
          "base_uri": "https://localhost:8080/",
          "height": 34
        },
        "outputId": "6be5c98f-204a-44a2-fb39-017ee2edfa8b"
      },
      "source": [
        "# Read, then decode for py2 compat.\n",
        "text = open(path_to_file, 'rb').read().decode(encoding='utf-8')\n",
        "# length of text is the number of characters in it\n",
        "print ('Length of text: {} characters'.format(len(text)))"
      ],
      "execution_count": 3,
      "outputs": [
        {
          "output_type": "stream",
          "text": [
            "Length of text: 1115394 characters\n"
          ],
          "name": "stdout"
        }
      ]
    },
    {
      "cell_type": "code",
      "metadata": {
        "id": "eajBPXUNcY7D",
        "colab_type": "code",
        "colab": {
          "base_uri": "https://localhost:8080/",
          "height": 272
        },
        "outputId": "910138f5-97e2-43c9-cb76-8f3ec0e74ef3"
      },
      "source": [
        "print(text[:250])"
      ],
      "execution_count": 4,
      "outputs": [
        {
          "output_type": "stream",
          "text": [
            "First Citizen:\n",
            "Before we proceed any further, hear me speak.\n",
            "\n",
            "All:\n",
            "Speak, speak.\n",
            "\n",
            "First Citizen:\n",
            "You are all resolved rather to die than to famish?\n",
            "\n",
            "All:\n",
            "Resolved. resolved.\n",
            "\n",
            "First Citizen:\n",
            "First, you know Caius Marcius is chief enemy to the people.\n",
            "\n"
          ],
          "name": "stdout"
        }
      ]
    },
    {
      "cell_type": "code",
      "metadata": {
        "id": "nPdH18rQckj4",
        "colab_type": "code",
        "colab": {}
      },
      "source": [
        "vocab = sorted(set(text))\n",
        "# Creating a mapping from unique characters to indices\n",
        "char2idx = {u:i for i, u in enumerate(vocab)}\n",
        "idx2char = np.array(vocab)\n",
        "def text_to_int(text):\n",
        "  return np.array([char2idx[c] for c in text])\n",
        "\n",
        "text_as_int = text_to_int(text)"
      ],
      "execution_count": 17,
      "outputs": []
    },
    {
      "cell_type": "code",
      "metadata": {
        "id": "kDYdl2ylgS6q",
        "colab_type": "code",
        "colab": {
          "base_uri": "https://localhost:8080/",
          "height": 34
        },
        "outputId": "373d50fe-5ff0-4379-84e3-498d4e6a8375"
      },
      "source": [
        "def int_to_text(ints):\n",
        "  try:\n",
        "    ints = ints.numpy()\n",
        "  except:\n",
        "    pass\n",
        "  return ''.join(idx2char[ints])\n",
        "\n",
        "print(int_to_text(text_as_int[:13]))"
      ],
      "execution_count": 18,
      "outputs": [
        {
          "output_type": "stream",
          "text": [
            "First Citizen\n"
          ],
          "name": "stdout"
        }
      ]
    },
    {
      "cell_type": "code",
      "metadata": {
        "id": "PXx4AfQjcnA7",
        "colab_type": "code",
        "colab": {
          "base_uri": "https://localhost:8080/",
          "height": 51
        },
        "outputId": "1f8a0419-c55b-4c87-8209-32353021bd0e"
      },
      "source": [
        "# lets look at how part of our text is encoded\n",
        "print(\"Text:\", text[:13])\n",
        "print(\"Encoded:\", text_to_int(text[:13]))"
      ],
      "execution_count": 6,
      "outputs": [
        {
          "output_type": "stream",
          "text": [
            "Text: First Citizen\n",
            "Encoded: [18 47 56 57 58  1 15 47 58 47 64 43 52]\n"
          ],
          "name": "stdout"
        }
      ]
    },
    {
      "cell_type": "code",
      "metadata": {
        "id": "_-YNu7Wccy54",
        "colab_type": "code",
        "colab": {}
      },
      "source": [
        "seq_length = 100  # length of sequence for a training example\n",
        "examples_per_epoch = len(text)//(seq_length+1)\n",
        "\n",
        "# Create training examples / targets\n",
        "char_dataset = tf.data.Dataset.from_tensor_slices(text_as_int)\n",
        "\n",
        "sequences = char_dataset.batch(seq_length+1, drop_remainder=True)"
      ],
      "execution_count": 7,
      "outputs": []
    },
    {
      "cell_type": "code",
      "metadata": {
        "id": "u3Qttsl6c2M_",
        "colab_type": "code",
        "colab": {}
      },
      "source": [
        "def split_input_target(chunk):  # for the example: hello\n",
        "    input_text = chunk[:-1]  # hell\n",
        "    target_text = chunk[1:]  # ello\n",
        "    return input_text, target_text  # hell, ello\n",
        "\n",
        "dataset = sequences.map(split_input_target)  # we use map to apply the above function to every entry"
      ],
      "execution_count": 9,
      "outputs": []
    },
    {
      "cell_type": "code",
      "metadata": {
        "id": "SRdtkQiwc9BW",
        "colab_type": "code",
        "colab": {}
      },
      "source": [
        "BATCH_SIZE = 64\n",
        "VOCAB_SIZE = len(vocab)  # vocab is number of unique characters\n",
        "EMBEDDING_DIM = 256\n",
        "RNN_UNITS = 1024\n",
        "\n",
        "# Buffer size to shuffle the dataset\n",
        "# (TF data is designed to work with possibly infinite sequences,\n",
        "# so it doesn't attempt to shuffle the entire sequence in memory. Instead,\n",
        "# it maintains a buffer in which it shuffles elements).\n",
        "BUFFER_SIZE = 10000\n",
        "\n",
        "data = dataset.shuffle(BUFFER_SIZE).batch(BATCH_SIZE, drop_remainder=True)"
      ],
      "execution_count": 11,
      "outputs": []
    },
    {
      "cell_type": "code",
      "metadata": {
        "id": "joRKOuSUdBdT",
        "colab_type": "code",
        "colab": {
          "base_uri": "https://localhost:8080/",
          "height": 255
        },
        "outputId": "19033bc0-7b91-4b83-fab0-f1d082a46d65"
      },
      "source": [
        "def build_model(vocab_size, embedding_dim, rnn_units, batch_size):\n",
        "  model = tf.keras.Sequential([\n",
        "    tf.keras.layers.Embedding(vocab_size, embedding_dim,\n",
        "                              batch_input_shape=[batch_size, None]),\n",
        "    tf.keras.layers.LSTM(rnn_units,\n",
        "                        return_sequences=True,\n",
        "                        stateful=True,\n",
        "                        recurrent_initializer='glorot_uniform'),\n",
        "    tf.keras.layers.Dense(vocab_size)\n",
        "  ])\n",
        "  return model\n",
        "\n",
        "model = build_model(VOCAB_SIZE,EMBEDDING_DIM, RNN_UNITS, BATCH_SIZE)\n",
        "model.summary()"
      ],
      "execution_count": 12,
      "outputs": [
        {
          "output_type": "stream",
          "text": [
            "Model: \"sequential\"\n",
            "_________________________________________________________________\n",
            "Layer (type)                 Output Shape              Param #   \n",
            "=================================================================\n",
            "embedding (Embedding)        (64, None, 256)           16640     \n",
            "_________________________________________________________________\n",
            "lstm (LSTM)                  (64, None, 1024)          5246976   \n",
            "_________________________________________________________________\n",
            "dense (Dense)                (64, None, 65)            66625     \n",
            "=================================================================\n",
            "Total params: 5,330,241\n",
            "Trainable params: 5,330,241\n",
            "Non-trainable params: 0\n",
            "_________________________________________________________________\n"
          ],
          "name": "stdout"
        }
      ]
    },
    {
      "cell_type": "code",
      "metadata": {
        "id": "FubdRcnxdCFM",
        "colab_type": "code",
        "colab": {
          "base_uri": "https://localhost:8080/",
          "height": 34
        },
        "outputId": "84158f88-1305-4e1f-a7ce-40c33ce76e8b"
      },
      "source": [
        "for input_example_batch, target_example_batch in data.take(1):\n",
        "  example_batch_predictions = model(input_example_batch)  # ask our model for a prediction on our first batch of training data (64 entries)\n",
        "  print(example_batch_predictions.shape, \"# (batch_size, sequence_length, vocab_size)\")  # print out the output shape"
      ],
      "execution_count": 13,
      "outputs": [
        {
          "output_type": "stream",
          "text": [
            "(64, 100, 65) # (batch_size, sequence_length, vocab_size)\n"
          ],
          "name": "stdout"
        }
      ]
    },
    {
      "cell_type": "code",
      "metadata": {
        "id": "vEyGcYjDdCYY",
        "colab_type": "code",
        "colab": {
          "base_uri": "https://localhost:8080/",
          "height": 1000
        },
        "outputId": "6ad20803-e86c-44a4-df5e-9de2763cbdc0"
      },
      "source": [
        "# we can see that the predicition is an array of 64 arrays, one for each entry in the batch\n",
        "print(len(example_batch_predictions))\n",
        "print(example_batch_predictions)"
      ],
      "execution_count": 14,
      "outputs": [
        {
          "output_type": "stream",
          "text": [
            "64\n",
            "tf.Tensor(\n",
            "[[[ 0.00181528 -0.0032021  -0.00162083 ... -0.00111642 -0.00113384\n",
            "    0.00210502]\n",
            "  [-0.00049912 -0.00338957  0.00084892 ... -0.00297879 -0.00195744\n",
            "    0.00699059]\n",
            "  [ 0.00436914 -0.00040307 -0.0020912  ...  0.0010442   0.00295802\n",
            "    0.01066749]\n",
            "  ...\n",
            "  [-0.0023037  -0.01538264 -0.0123384  ...  0.00449     0.0046932\n",
            "   -0.00575491]\n",
            "  [-0.00491805 -0.01452674 -0.00651431 ...  0.00034614  0.00245755\n",
            "    0.00296883]\n",
            "  [-0.00872178 -0.01095952 -0.00085584 ...  0.00178854 -0.00010347\n",
            "    0.00782594]]\n",
            "\n",
            " [[-0.00309516 -0.00153147  0.00200987 ... -0.00151538 -0.00148843\n",
            "    0.00688836]\n",
            "  [-0.00262828  0.00069556  0.00527932 ...  0.0012317   0.00224588\n",
            "   -0.00338847]\n",
            "  [ 0.00201553  0.00257312  0.00056883 ...  0.00553857  0.00575582\n",
            "    0.00471671]\n",
            "  ...\n",
            "  [ 0.00631589 -0.0025674   0.00236145 ...  0.00166858 -0.00056066\n",
            "    0.00453069]\n",
            "  [ 0.00571607 -0.00566844 -0.00270624 ... -0.00055656  0.00585685\n",
            "    0.00523234]\n",
            "  [ 0.00693676 -0.0158962  -0.00470471 ...  0.00210318  0.00964842\n",
            "    0.00374384]]\n",
            "\n",
            " [[ 0.00083532 -0.00245025  0.00031522 ...  0.00323387  0.00072792\n",
            "    0.00219237]\n",
            "  [ 0.00237081 -0.01187243 -0.00082933 ...  0.00430811  0.00582061\n",
            "    0.00155816]\n",
            "  [ 0.00027908 -0.01070608 -0.00483841 ... -0.0012196   0.00450309\n",
            "    0.00303654]\n",
            "  ...\n",
            "  [ 0.0085574  -0.00040275  0.00027504 ...  0.01308628  0.00378095\n",
            "    0.00028432]\n",
            "  [ 0.00983293  0.00027774 -0.00816377 ...  0.01558379  0.00241455\n",
            "    0.00474555]\n",
            "  [ 0.00309682 -0.00303198 -0.01129416 ...  0.00868285  0.0001429\n",
            "    0.00456355]]\n",
            "\n",
            " ...\n",
            "\n",
            " [[-0.00309516 -0.00153147  0.00200987 ... -0.00151538 -0.00148843\n",
            "    0.00688836]\n",
            "  [-0.0048911  -0.00282557  0.00330717 ... -0.00127195  0.00169853\n",
            "    0.00158952]\n",
            "  [-0.00646434 -0.00256252  0.00526956 ...  0.00127408 -0.00253775\n",
            "   -0.00401793]\n",
            "  ...\n",
            "  [ 0.00056812  0.00034866 -0.00509971 ...  0.01317704  0.0069614\n",
            "   -0.00806931]\n",
            "  [ 0.00177152 -0.00465833 -0.01145119 ...  0.02239005  0.01111\n",
            "    0.00082459]\n",
            "  [-0.00291125 -0.00678105 -0.00813525 ...  0.01358327  0.00547251\n",
            "    0.00891195]]\n",
            "\n",
            " [[-0.0020089  -0.00173078 -0.00718242 ... -0.00378664  0.00062363\n",
            "   -0.00381403]\n",
            "  [-0.00397646 -0.00241765 -0.00319623 ... -0.00283268  0.00377177\n",
            "   -0.0065511 ]\n",
            "  [ 0.00029242  0.00067682 -0.00520403 ...  0.00147681  0.00770277\n",
            "    0.00100403]\n",
            "  ...\n",
            "  [ 0.00708214  0.00272201 -0.01340295 ...  0.00451033  0.00442948\n",
            "    0.01205546]\n",
            "  [ 0.00703625 -0.00125925 -0.01190263 ...  0.00320701  0.00218115\n",
            "    0.00971586]\n",
            "  [ 0.00859372 -0.00420403 -0.01532592 ...  0.01564367  0.00859919\n",
            "    0.00962937]]\n",
            "\n",
            " [[ 0.00338087  0.00243217 -0.00310047 ...  0.00401169  0.00417823\n",
            "    0.00627983]\n",
            "  [-0.00047026  0.00177053 -0.0001657  ...  0.00583564 -0.00132592\n",
            "   -0.00064277]\n",
            "  [-0.00445491 -0.00123344 -0.00601003 ...  0.00540657 -0.00105394\n",
            "   -0.00231797]\n",
            "  ...\n",
            "  [-0.00099502  0.00215876 -0.00748598 ...  0.00195788 -0.00975238\n",
            "    0.01131   ]\n",
            "  [-0.00352224  0.00428106 -0.00691332 ...  0.0059565  -0.01016271\n",
            "    0.01117037]\n",
            "  [-0.00499285  0.00211847 -0.00192706 ...  0.00472015 -0.00884595\n",
            "    0.01545171]]], shape=(64, 100, 65), dtype=float32)\n"
          ],
          "name": "stdout"
        }
      ]
    },
    {
      "cell_type": "code",
      "metadata": {
        "id": "gzeMnhqodCvb",
        "colab_type": "code",
        "colab": {
          "base_uri": "https://localhost:8080/",
          "height": 272
        },
        "outputId": "ae3fab3a-6535-4888-c71e-2a82e67c0e00"
      },
      "source": [
        "# lets examine one prediction\n",
        "pred = example_batch_predictions[0]\n",
        "print(len(pred))\n",
        "print(pred)\n",
        "# notice this is a 2d array of length 100, where each interior array is the prediction for the next character at each time step"
      ],
      "execution_count": 15,
      "outputs": [
        {
          "output_type": "stream",
          "text": [
            "100\n",
            "tf.Tensor(\n",
            "[[ 0.00181528 -0.0032021  -0.00162083 ... -0.00111642 -0.00113384\n",
            "   0.00210502]\n",
            " [-0.00049912 -0.00338957  0.00084892 ... -0.00297879 -0.00195744\n",
            "   0.00699059]\n",
            " [ 0.00436914 -0.00040307 -0.0020912  ...  0.0010442   0.00295802\n",
            "   0.01066749]\n",
            " ...\n",
            " [-0.0023037  -0.01538264 -0.0123384  ...  0.00449     0.0046932\n",
            "  -0.00575491]\n",
            " [-0.00491805 -0.01452674 -0.00651431 ...  0.00034614  0.00245755\n",
            "   0.00296883]\n",
            " [-0.00872178 -0.01095952 -0.00085584 ...  0.00178854 -0.00010347\n",
            "   0.00782594]], shape=(100, 65), dtype=float32)\n"
          ],
          "name": "stdout"
        }
      ]
    },
    {
      "cell_type": "code",
      "metadata": {
        "id": "FoR3e7nDdOTA",
        "colab_type": "code",
        "colab": {
          "base_uri": "https://localhost:8080/",
          "height": 340
        },
        "outputId": "9fab3c7a-3ac5-4f37-a64c-e6eb00576e1a"
      },
      "source": [
        "# and finally well look at a prediction at the first timestep\n",
        "time_pred = pred[0]\n",
        "print(len(time_pred))\n",
        "print(time_pred)\n",
        "# and of course its 65 values representing the probabillity of each character occuring next"
      ],
      "execution_count": 16,
      "outputs": [
        {
          "output_type": "stream",
          "text": [
            "65\n",
            "tf.Tensor(\n",
            "[ 1.8152810e-03 -3.2021047e-03 -1.6208319e-03 -5.9873017e-04\n",
            " -8.5134963e-03 -2.7945682e-03  1.2221680e-03  1.3203216e-03\n",
            " -1.3463397e-03 -9.7077386e-04 -2.0272806e-03 -5.1591657e-03\n",
            "  5.9295059e-03 -3.6178287e-03  3.8232439e-04  7.6406728e-04\n",
            "  6.0175708e-04  6.4078434e-03 -4.6254541e-03  2.2368340e-03\n",
            "  2.0445243e-04  2.1967907e-03 -5.7662334e-03  1.6075552e-03\n",
            " -1.6739077e-03 -3.9620561e-04 -1.0825646e-03 -1.5434134e-03\n",
            "  5.5689197e-03  3.9283759e-03  2.0989762e-03 -4.1235648e-03\n",
            " -9.9919166e-04 -1.5845560e-03 -2.1739593e-03  3.9905338e-03\n",
            "  1.8964219e-03  3.2458045e-03 -6.3445945e-03 -1.0060651e-03\n",
            "  7.0616277e-04 -2.3638888e-03 -1.9484926e-03  8.5225794e-05\n",
            "  3.4825373e-03 -2.0936891e-03 -2.2039786e-03 -8.1065006e-04\n",
            " -2.5797694e-03  1.2380087e-03 -4.0932512e-03  1.7486496e-03\n",
            "  2.3796062e-03  2.0173807e-03 -1.8791487e-03  4.1361083e-03\n",
            " -2.5960631e-03  4.0450813e-03  6.6477805e-03  7.4479496e-04\n",
            " -5.3987554e-03  2.9054312e-03 -1.1164208e-03 -1.1338411e-03\n",
            "  2.1050191e-03], shape=(65,), dtype=float32)\n"
          ],
          "name": "stdout"
        }
      ]
    },
    {
      "cell_type": "code",
      "metadata": {
        "id": "S3-itYTtdOmc",
        "colab_type": "code",
        "colab": {
          "base_uri": "https://localhost:8080/",
          "height": 35
        },
        "outputId": "6a7145e3-c43d-41e7-e7f7-b93e978b22a0"
      },
      "source": [
        "# If we want to determine the predicted character we need to sample the output distribution (pick a value based on probabillity)\n",
        "sampled_indices = tf.random.categorical(pred, num_samples=1)\n",
        "\n",
        "# now we can reshape that array and convert all the integers to numbers to see the actual characters\n",
        "sampled_indices = np.reshape(sampled_indices, (1, -1))[0]\n",
        "predicted_chars = int_to_text(sampled_indices)\n",
        "\n",
        "predicted_chars  # and this is what the model predicted for training sequence 1"
      ],
      "execution_count": 19,
      "outputs": [
        {
          "output_type": "execute_result",
          "data": {
            "application/vnd.google.colaboratory.intrinsic+json": {
              "type": "string"
            },
            "text/plain": [
              "\"\\ntBCXOdEZgim\\npjeF-HI;YGNbux\\nYU!\\nNFucu,eupY&COCzU;3sEswSFnXNrpEcCu$Us?-zwGmc&Suvr$\\n:bFTEA-t-&.?y'DQGT\""
            ]
          },
          "metadata": {
            "tags": []
          },
          "execution_count": 19
        }
      ]
    },
    {
      "cell_type": "code",
      "metadata": {
        "id": "J9sENEKNdO2E",
        "colab_type": "code",
        "colab": {}
      },
      "source": [
        "def loss(labels, logits):\n",
        "  return tf.keras.losses.sparse_categorical_crossentropy(labels, logits, from_logits=True)"
      ],
      "execution_count": 20,
      "outputs": []
    },
    {
      "cell_type": "code",
      "metadata": {
        "id": "WBxfu5qUdPLJ",
        "colab_type": "code",
        "colab": {}
      },
      "source": [
        "model.compile(optimizer='adam', loss=loss)"
      ],
      "execution_count": 21,
      "outputs": []
    },
    {
      "cell_type": "code",
      "metadata": {
        "id": "dB18q49YdPjX",
        "colab_type": "code",
        "colab": {}
      },
      "source": [
        "# Directory where the checkpoints will be saved\n",
        "checkpoint_dir = './training_checkpoints'\n",
        "# Name of the checkpoint files\n",
        "checkpoint_prefix = os.path.join(checkpoint_dir, \"ckpt_{epoch}\")\n",
        "\n",
        "checkpoint_callback=tf.keras.callbacks.ModelCheckpoint(\n",
        "    filepath=checkpoint_prefix,\n",
        "    save_weights_only=True)"
      ],
      "execution_count": 22,
      "outputs": []
    },
    {
      "cell_type": "code",
      "metadata": {
        "id": "MmNkpr1TdP3C",
        "colab_type": "code",
        "colab": {
          "base_uri": "https://localhost:8080/",
          "height": 1000
        },
        "outputId": "10fe71cc-2ecb-4072-aa76-10eddbea1c53"
      },
      "source": [
        "history = model.fit(data, epochs=100, callbacks=[checkpoint_callback])"
      ],
      "execution_count": 23,
      "outputs": [
        {
          "output_type": "stream",
          "text": [
            "Epoch 1/100\n",
            "172/172 [==============================] - 10s 56ms/step - loss: 2.6063\n",
            "Epoch 2/100\n",
            "172/172 [==============================] - 10s 56ms/step - loss: 1.9030\n",
            "Epoch 3/100\n",
            "172/172 [==============================] - 10s 56ms/step - loss: 1.6499\n",
            "Epoch 4/100\n",
            "172/172 [==============================] - 10s 55ms/step - loss: 1.5122\n",
            "Epoch 5/100\n",
            "172/172 [==============================] - 10s 56ms/step - loss: 1.4294\n",
            "Epoch 6/100\n",
            "172/172 [==============================] - 10s 55ms/step - loss: 1.3711\n",
            "Epoch 7/100\n",
            "172/172 [==============================] - 10s 55ms/step - loss: 1.3259\n",
            "Epoch 8/100\n",
            "172/172 [==============================] - 10s 55ms/step - loss: 1.2864\n",
            "Epoch 9/100\n",
            "172/172 [==============================] - 10s 56ms/step - loss: 1.2509\n",
            "Epoch 10/100\n",
            "172/172 [==============================] - 10s 55ms/step - loss: 1.2164\n",
            "Epoch 11/100\n",
            "172/172 [==============================] - 10s 55ms/step - loss: 1.1821\n",
            "Epoch 12/100\n",
            "172/172 [==============================] - 10s 56ms/step - loss: 1.1466\n",
            "Epoch 13/100\n",
            "172/172 [==============================] - 10s 55ms/step - loss: 1.1102\n",
            "Epoch 14/100\n",
            "172/172 [==============================] - 10s 55ms/step - loss: 1.0723\n",
            "Epoch 15/100\n",
            "172/172 [==============================] - 9s 55ms/step - loss: 1.0328\n",
            "Epoch 16/100\n",
            "172/172 [==============================] - 10s 56ms/step - loss: 0.9945\n",
            "Epoch 17/100\n",
            "172/172 [==============================] - 10s 55ms/step - loss: 0.9533\n",
            "Epoch 18/100\n",
            "172/172 [==============================] - 10s 56ms/step - loss: 0.9132\n",
            "Epoch 19/100\n",
            "172/172 [==============================] - 10s 55ms/step - loss: 0.8750\n",
            "Epoch 20/100\n",
            "172/172 [==============================] - 10s 55ms/step - loss: 0.8357\n",
            "Epoch 21/100\n",
            "172/172 [==============================] - 10s 55ms/step - loss: 0.7992\n",
            "Epoch 22/100\n",
            "172/172 [==============================] - 9s 55ms/step - loss: 0.7649\n",
            "Epoch 23/100\n",
            "172/172 [==============================] - 9s 55ms/step - loss: 0.7334\n",
            "Epoch 24/100\n",
            "172/172 [==============================] - 9s 55ms/step - loss: 0.7031\n",
            "Epoch 25/100\n",
            "172/172 [==============================] - 9s 55ms/step - loss: 0.6764\n",
            "Epoch 26/100\n",
            "172/172 [==============================] - 9s 55ms/step - loss: 0.6516\n",
            "Epoch 27/100\n",
            "172/172 [==============================] - 9s 55ms/step - loss: 0.6287\n",
            "Epoch 28/100\n",
            "172/172 [==============================] - 9s 55ms/step - loss: 0.6082\n",
            "Epoch 29/100\n",
            "172/172 [==============================] - 10s 56ms/step - loss: 0.5894\n",
            "Epoch 30/100\n",
            "172/172 [==============================] - 10s 56ms/step - loss: 0.5701\n",
            "Epoch 31/100\n",
            "172/172 [==============================] - 10s 56ms/step - loss: 0.5578\n",
            "Epoch 32/100\n",
            "172/172 [==============================] - 10s 56ms/step - loss: 0.5452\n",
            "Epoch 33/100\n",
            "172/172 [==============================] - 10s 55ms/step - loss: 0.5314\n",
            "Epoch 34/100\n",
            "172/172 [==============================] - 10s 55ms/step - loss: 0.5198\n",
            "Epoch 35/100\n",
            "172/172 [==============================] - 10s 56ms/step - loss: 0.5100\n",
            "Epoch 36/100\n",
            "172/172 [==============================] - 10s 56ms/step - loss: 0.5015\n",
            "Epoch 37/100\n",
            "172/172 [==============================] - 10s 56ms/step - loss: 0.4930\n",
            "Epoch 38/100\n",
            "172/172 [==============================] - 10s 56ms/step - loss: 0.4858\n",
            "Epoch 39/100\n",
            "172/172 [==============================] - 10s 55ms/step - loss: 0.4777\n",
            "Epoch 40/100\n",
            "172/172 [==============================] - 9s 55ms/step - loss: 0.4682\n",
            "Epoch 41/100\n",
            "172/172 [==============================] - 10s 55ms/step - loss: 0.4649\n",
            "Epoch 42/100\n",
            "172/172 [==============================] - 10s 56ms/step - loss: 0.4613\n",
            "Epoch 43/100\n",
            "172/172 [==============================] - 10s 56ms/step - loss: 0.4542\n",
            "Epoch 44/100\n",
            "172/172 [==============================] - 9s 55ms/step - loss: 0.4481\n",
            "Epoch 45/100\n",
            "172/172 [==============================] - 10s 56ms/step - loss: 0.4473\n",
            "Epoch 46/100\n",
            "172/172 [==============================] - 10s 55ms/step - loss: 0.4440\n",
            "Epoch 47/100\n",
            "172/172 [==============================] - 10s 56ms/step - loss: 0.4399\n",
            "Epoch 48/100\n",
            "172/172 [==============================] - 10s 56ms/step - loss: 0.4351\n",
            "Epoch 49/100\n",
            "172/172 [==============================] - 10s 56ms/step - loss: 0.4316\n",
            "Epoch 50/100\n",
            "172/172 [==============================] - 10s 55ms/step - loss: 0.4307\n",
            "Epoch 51/100\n",
            "172/172 [==============================] - 10s 56ms/step - loss: 0.4268\n",
            "Epoch 52/100\n",
            "172/172 [==============================] - 10s 55ms/step - loss: 0.4240\n",
            "Epoch 53/100\n",
            "172/172 [==============================] - 10s 56ms/step - loss: 0.4230\n",
            "Epoch 54/100\n",
            "172/172 [==============================] - 10s 55ms/step - loss: 0.4193\n",
            "Epoch 55/100\n",
            "172/172 [==============================] - 9s 55ms/step - loss: 0.4169\n",
            "Epoch 56/100\n",
            "172/172 [==============================] - 10s 56ms/step - loss: 0.4146\n",
            "Epoch 57/100\n",
            "172/172 [==============================] - 10s 55ms/step - loss: 0.4158\n",
            "Epoch 58/100\n",
            "172/172 [==============================] - 10s 56ms/step - loss: 0.4137\n",
            "Epoch 59/100\n",
            "172/172 [==============================] - 10s 56ms/step - loss: 0.4109\n",
            "Epoch 60/100\n",
            "172/172 [==============================] - 10s 56ms/step - loss: 0.4102\n",
            "Epoch 61/100\n",
            "172/172 [==============================] - 10s 56ms/step - loss: 0.4070\n",
            "Epoch 62/100\n",
            "172/172 [==============================] - 9s 55ms/step - loss: 0.4043\n",
            "Epoch 63/100\n",
            "172/172 [==============================] - 10s 56ms/step - loss: 0.4036\n",
            "Epoch 64/100\n",
            "172/172 [==============================] - 10s 56ms/step - loss: 0.4023\n",
            "Epoch 65/100\n",
            "172/172 [==============================] - 10s 56ms/step - loss: 0.4056\n",
            "Epoch 66/100\n",
            "172/172 [==============================] - 10s 56ms/step - loss: 0.4041\n",
            "Epoch 67/100\n",
            "172/172 [==============================] - 10s 56ms/step - loss: 0.4022\n",
            "Epoch 68/100\n",
            "172/172 [==============================] - 10s 56ms/step - loss: 0.4026\n",
            "Epoch 69/100\n",
            "172/172 [==============================] - 10s 56ms/step - loss: 0.4004\n",
            "Epoch 70/100\n",
            "172/172 [==============================] - 10s 55ms/step - loss: 0.3977\n",
            "Epoch 71/100\n",
            "172/172 [==============================] - 10s 55ms/step - loss: 0.3969\n",
            "Epoch 72/100\n",
            "172/172 [==============================] - 10s 56ms/step - loss: 0.3977\n",
            "Epoch 73/100\n",
            "172/172 [==============================] - 10s 56ms/step - loss: 0.3981\n",
            "Epoch 74/100\n",
            "172/172 [==============================] - 10s 55ms/step - loss: 0.3973\n",
            "Epoch 75/100\n",
            "172/172 [==============================] - 10s 56ms/step - loss: 0.3956\n",
            "Epoch 76/100\n",
            "172/172 [==============================] - 10s 56ms/step - loss: 0.3947\n",
            "Epoch 77/100\n",
            "172/172 [==============================] - 9s 55ms/step - loss: 0.3921\n",
            "Epoch 78/100\n",
            "172/172 [==============================] - 10s 55ms/step - loss: 0.3925\n",
            "Epoch 79/100\n",
            "172/172 [==============================] - 10s 55ms/step - loss: 0.3936\n",
            "Epoch 80/100\n",
            "172/172 [==============================] - 10s 55ms/step - loss: 0.3932\n",
            "Epoch 81/100\n",
            "172/172 [==============================] - 10s 56ms/step - loss: 0.3917\n",
            "Epoch 82/100\n",
            "172/172 [==============================] - 10s 56ms/step - loss: 0.3921\n",
            "Epoch 83/100\n",
            "172/172 [==============================] - 9s 55ms/step - loss: 0.3893\n",
            "Epoch 84/100\n",
            "172/172 [==============================] - 10s 56ms/step - loss: 0.3894\n",
            "Epoch 85/100\n",
            "172/172 [==============================] - 10s 55ms/step - loss: 0.3888\n",
            "Epoch 86/100\n",
            "172/172 [==============================] - 10s 56ms/step - loss: 0.3867\n",
            "Epoch 87/100\n",
            "172/172 [==============================] - 10s 55ms/step - loss: 0.3876\n",
            "Epoch 88/100\n",
            "172/172 [==============================] - 10s 55ms/step - loss: 0.3846\n",
            "Epoch 89/100\n",
            "172/172 [==============================] - 10s 55ms/step - loss: 0.3877\n",
            "Epoch 90/100\n",
            "172/172 [==============================] - 10s 56ms/step - loss: 0.3853\n",
            "Epoch 91/100\n",
            "172/172 [==============================] - 10s 56ms/step - loss: 0.3858\n",
            "Epoch 92/100\n",
            "172/172 [==============================] - 10s 55ms/step - loss: 0.3857\n",
            "Epoch 93/100\n",
            "172/172 [==============================] - 10s 55ms/step - loss: 0.3855\n",
            "Epoch 94/100\n",
            "172/172 [==============================] - 10s 56ms/step - loss: 0.3868\n",
            "Epoch 95/100\n",
            "172/172 [==============================] - 10s 56ms/step - loss: 0.3863\n",
            "Epoch 96/100\n",
            "172/172 [==============================] - 10s 55ms/step - loss: 0.3843\n",
            "Epoch 97/100\n",
            "172/172 [==============================] - 10s 55ms/step - loss: 0.3850\n",
            "Epoch 98/100\n",
            "172/172 [==============================] - 9s 55ms/step - loss: 0.3846\n",
            "Epoch 99/100\n",
            "172/172 [==============================] - 9s 55ms/step - loss: 0.3828\n",
            "Epoch 100/100\n",
            "172/172 [==============================] - 9s 55ms/step - loss: 0.3870\n"
          ],
          "name": "stdout"
        }
      ]
    },
    {
      "cell_type": "code",
      "metadata": {
        "id": "s6m5SIpodhym",
        "colab_type": "code",
        "colab": {}
      },
      "source": [
        "model = build_model(VOCAB_SIZE, EMBEDDING_DIM, RNN_UNITS, batch_size=1)"
      ],
      "execution_count": 24,
      "outputs": []
    },
    {
      "cell_type": "code",
      "metadata": {
        "id": "fR-J9guediHS",
        "colab_type": "code",
        "colab": {}
      },
      "source": [
        "model.load_weights(tf.train.latest_checkpoint(checkpoint_dir))\n",
        "model.build(tf.TensorShape([1, None]))"
      ],
      "execution_count": 25,
      "outputs": []
    },
    {
      "cell_type": "code",
      "metadata": {
        "id": "YawDk4jcdicU",
        "colab_type": "code",
        "colab": {}
      },
      "source": [
        "checkpoint_num = 10\n",
        "model.load_weights(tf.train.load_checkpoint(\"./training_checkpoints/ckpt_\" + str(checkpoint_num)))\n",
        "model.build(tf.TensorShape([1, None]))"
      ],
      "execution_count": null,
      "outputs": []
    },
    {
      "cell_type": "code",
      "metadata": {
        "id": "Rk8b6JPkdit4",
        "colab_type": "code",
        "colab": {}
      },
      "source": [
        "def generate_text(model, start_string):\n",
        "  # Evaluation step (generating text using the learned model)\n",
        "\n",
        "  # Number of characters to generate\n",
        "  num_generate = 800\n",
        "\n",
        "  # Converting our start string to numbers (vectorizing)\n",
        "  input_eval = [char2idx[s] for s in start_string]\n",
        "  input_eval = tf.expand_dims(input_eval, 0)\n",
        "\n",
        "  # Empty string to store our results\n",
        "  text_generated = []\n",
        "\n",
        "  # Low temperatures results in more predictable text.\n",
        "  # Higher temperatures results in more surprising text.\n",
        "  # Experiment to find the best setting.\n",
        "  temperature = 1.0\n",
        "\n",
        "  # Here batch size == 1\n",
        "  model.reset_states()\n",
        "  for i in range(num_generate):\n",
        "      predictions = model(input_eval)\n",
        "      # remove the batch dimension\n",
        "    \n",
        "      predictions = tf.squeeze(predictions, 0)\n",
        "\n",
        "      # using a categorical distribution to predict the character returned by the model\n",
        "      predictions = predictions / temperature\n",
        "      predicted_id = tf.random.categorical(predictions, num_samples=1)[-1,0].numpy()\n",
        "\n",
        "      # We pass the predicted character as the next input to the model\n",
        "      # along with the previous hidden state\n",
        "      input_eval = tf.expand_dims([predicted_id], 0)\n",
        "\n",
        "      text_generated.append(idx2char[predicted_id])\n",
        "\n",
        "  return (start_string + ''.join(text_generated))"
      ],
      "execution_count": 27,
      "outputs": []
    },
    {
      "cell_type": "code",
      "metadata": {
        "id": "mGvnjP3mdjAS",
        "colab_type": "code",
        "colab": {
          "base_uri": "https://localhost:8080/",
          "height": 595
        },
        "outputId": "dd4a5590-4664-435b-d636-b67913c1448e"
      },
      "source": [
        "inp = input(\"Type a starting string: \")\n",
        "print(generate_text(model, inp))"
      ],
      "execution_count": 28,
      "outputs": [
        {
          "output_type": "stream",
          "text": [
            "Type a starting string: citizen\n",
            "citizens and friends to Rome,\n",
            "And die no more. Gond grants that fear the court?\n",
            "\n",
            "CAMILLO:\n",
            "My liege,\n",
            "Your honour never followed.\n",
            "\n",
            "ROMEO:\n",
            "So long courter for a hair of my strander in his doom.\n",
            "\n",
            "Shepherd:\n",
            "This but stop never prayer. A friar tale some peace\n",
            "With smoter'd lady and deserved thee!\n",
            "\n",
            "Purse:\n",
            "They say 'There's none so. Camillo, and I their turndsmen.\n",
            "\n",
            "Second Senator:\n",
            "Our army is stopp'd with our company.\n",
            "\n",
            "KING HENRY VI:\n",
            "Where did you prove up, I think, in a vault very like,\n",
            "The horror else?'\n",
            "\n",
            "SICINIUS:\n",
            "You shall go beth:\n",
            "A good confirmer with you; yet two no reason too, for I am proof against that title and his fellows,\n",
            "I'll prove the county of his post to faith in fearful consul\n",
            "With quarrel silken dial, art's hand.\n",
            "\n",
            "LADY ANNE:\n",
            "In thy foul throat of war behavior\n",
            "From the waster of men of m\n"
          ],
          "name": "stdout"
        }
      ]
    }
  ]
}